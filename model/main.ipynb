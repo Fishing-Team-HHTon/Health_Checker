{
 "cells": [
  {
   "cell_type": "code",
   "execution_count": null,
   "id": "ecb2528e",
   "metadata": {},
   "outputs": [],
   "source": [
    "!pip3 install torch torchvision torchaudio --index-url https://download.pytorch.org/whl/cu118 -q"
   ]
  },
  {
   "cell_type": "code",
   "execution_count": null,
   "id": "34a71501",
   "metadata": {},
   "outputs": [],
   "source": [
    "!pip3 install ultralytics -q"
   ]
  },
  {
   "cell_type": "code",
   "execution_count": null,
   "id": "ad2f53ab",
   "metadata": {},
   "outputs": [],
   "source": [
    "import ultralytics\n",
    "from ultralytics import YOLO\n",
    "\n",
    "ultralytics.checks()"
   ]
  },
  {
   "cell_type": "code",
   "execution_count": null,
   "id": "3157d014",
   "metadata": {},
   "outputs": [],
   "source": [
    "import torch\n",
    "\n",
    "print('Cuda yes' if torch.cuda.is_available() else 'Cuda no')"
   ]
  },
  {
   "cell_type": "code",
   "execution_count": null,
   "id": "9dd8fa5a",
   "metadata": {},
   "outputs": [],
   "source": [
    "import os\n",
    "\n",
    "dataset_path = r\"C:\\develop\\zazeks\\model\\dataset\"\n",
    "train_images = dataset_path + r'\\train\\images'\n",
    "test_images = dataset_path + r'\\test\\images'\n",
    "valid_images = dataset_path + r'\\valid\\images'\n",
    "config_path = dataset_path + r'\\data.yaml'\n",
    "\n",
    "print(f'{train_images}\\n{test_images}\\n{valid_images}')"
   ]
  },
  {
   "cell_type": "code",
   "execution_count": null,
   "id": "e9f76c50",
   "metadata": {},
   "outputs": [],
   "source": [
    "model = YOLO(\"yolo11n.pt\")\n",
    "\n",
    "results = model.train(data=config_path, epochs=50, imgsz=640, device=0, amp=False, plots=True, save=True)"
   ]
  }
 ],
 "metadata": {
  "kernelspec": {
   "display_name": "Python 3",
   "language": "python",
   "name": "python3"
  },
  "language_info": {
   "name": "python",
   "version": "3.10.6"
  }
 },
 "nbformat": 4,
 "nbformat_minor": 5
}
